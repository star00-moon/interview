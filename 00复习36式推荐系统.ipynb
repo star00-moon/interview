{
  "cells": [
    {
      "cell_type": "markdown",
      "metadata": {
        "collapsed": true,
        "pycharm": {
          "name": "#%% md\n"
        }
      },
      "source": "# 概念片\n\u003eEE[套索和利用]、冷启动、概率思维\n\n## 个推 \n- 公式\n- 信息过载\n\n## 问题\n- 数据\n    - 评分数据\n    - 行为数据\n- 问题模式\n    - 冷启\n    - EE 探索利用\n    - 问题分析处理【安全问题】\n    \n## 思维模式\n- 目标思维\n- 不确定性思维\n    - 概率\n    - 大局、趋势\n    - EE\n\n# 内容推荐\n## 用户画像\n- 定义\n- 关键因素\n    - 维度\n    - 量化\n- 构建方法\n    - 查户口\n    - 堆数据\n    - 黑盒子\n    \n## 从文本到用户画像\n- 文本开始\n    - 用户\n    - 物品\n    - 表达形式\n- 用户画像构建\n    - 步骤\n        - 1.非结构--》结构化\n        - 2.物品结构+用户结构融合\n    - 文本构建\n        - 关键词提取 TF-IDF,TextRank\n        - 实体识别 crf\n        - 内容分类  svm,fasttext    \n        - 主题分类  聚类  LDA \n            - gensim\n            - PLDA\n        - 嵌入\n            -word2vec        \n    - 算法\n        - TF-IDF,textrank\n        - crf\n        - fasttext\n        - gensim,PLDA\n        - word2vec\n    - 标签选择【分类问题】\n        - 思想方法\n            - 文档\n            - 类别\n            - 集合\n            - 提取\n        - 卡方检验\n            - 单独筛选一套标签\n        - 信息增益\n            - 全局标签\n            \n## 超越标签的推荐系统\n- 如何做好内容推荐\n    - 抓\n    - 洗\n    - 挖\n    - 算\n- 基于内容推荐的框架\n    - 内容源\n    - 内容分析和用户分析\n        - 内容挖掘分析\n        - 例子 快手\n            - 无 \n            - 标题、描述\n            - 分析主题\n            - 实体识别\n            - 隐语义\n        - 内容库\n            - 分类模型\n            - 主体模型\n            - 主体识别\n            - 词嵌入\n    - 内容推荐算法\n        - 计算相似性 余弦相似度\n        - BM25F 【卡方类似】\n        - 模型\n            - 逻辑回归\n            - gbdt\n            \n## 近邻推荐\n- 基于用户的协同过滤\n    - 思想\n        - 用户聚类过程\n    - 原理\n        - 用户向量\n        - 求相似用户\n        - 物品打分\n    - 实战\n        - 矩阵构造\n            - csr,coo\n        - 相似度计算\n            - 降低计算复杂度\n                - 对向量采样【dimsum】\n                - 向量化计算 numpy\n            - 缓解性能代价\n                - rm\n                - 单机工具 KGraph，KGraphCHI\n        - 推荐计算\n            - OpenMP    多线程高效\n        - 一些改进\n            - 时间衰老\n            - 热门物品惩罚\n    - 应用场景\n       - 相似用户\n       - 基于用户的推荐结果\n    \n## 基于物品的协同过滤\n- 原理\n    - 物品关系矩阵\n        - 构建\n        - 推荐方式\n            - 一个物品关联的物品列表\n            - 看了又看\n- 优点\n    - 物品数小于用户数  物品之间的计算不会成为瓶颈\n    - 相似度比较静态\n    - 物品对应的消费则数量很大，计算物品间的相似度比用户间相似度好计算\n- 物品相似度计算\n    - 物品矩阵\n    - 改进\n        - 物品中心化 减去均值\n        - 用户中心化 减去均值\n- 推荐结果计算\n    - topK\n    - slopOne   实时更新 \n\n## 计算相似度的方法\n- 欧式距离\n- 余弦相似度\n    - 改进：取均值\n- 杰卡德\n    - 布尔向量\n    - 隐式反馈数据（行为数据）\n- 皮尔逊相关系数\n    - 变量的相关趋势\n- 问答\n    - 社交网络\n        - 标签\n        - 关键词\n        - 融合\n        \n## 为什么矩阵分解\n- svd算法\n- 增加偏置信息\n- 增加历史行为\n- 考虑时间因素\n\n## FaceBook 好友推荐\n- 回顾矩阵分解\n- 交替最小二乘\n- 隐式反馈\n    - 负样本采样\n- 推荐计算\n\n## 排序效果模型\n- 矩阵分解不足\n- 贝叶斯个性化推荐\n    - AUC\n    - 构建样本\n    - 目标函数\n    - 训练方法"
    }
  ],
  "metadata": {
    "language_info": {
      "codemirror_mode": {
        "name": "ipython",
        "version": 2
      },
      "file_extension": ".py",
      "mimetype": "text/x-python",
      "name": "python",
      "nbconvert_exporter": "python",
      "pygments_lexer": "ipython2",
      "version": "2.7.6"
    },
    "kernelspec": {
      "name": "python3",
      "language": "python",
      "display_name": "Python 3"
    }
  },
  "nbformat": 4,
  "nbformat_minor": 0
}
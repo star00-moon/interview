{
  "cells": [
    {
      "cell_type": "markdown",
      "metadata": {
        "collapsed": true,
        "pycharm": {
          "name": "#%% md\n"
        }
      },
      "source": "## 1.冷启动问题定义\n\n## 2.冷启动的分类\n\n## 3.冷启动问题的解决方案    \n### 3.1 提供非个性化的推荐\n### 3.2 利用用户注册信息\n### 3.3 选择合适的物品启动用户的兴趣\n### 3.4 利用物品的内容信息\n### userCF算法\n### itemCF算法\n### 3.5 采用专家标注\n### 3.6 利用用户在其他地方已经沉淀的数据进行冷启动\n### 3.7 利用用户的手机等兴趣偏好进行冷启动"
    },
    {
      "cell_type": "markdown",
      "source": "- 内容推荐 挖掘用户画像，物品画像\n- bandit 算法\n\u003e 计算 模型收益，该用户跟模型的权重\n- 汤普森采样\n- ucb\n- 升级\n    - linucb\n    - cofiba\n",
      "metadata": {
        "pycharm": {
          "metadata": false
        }
      }
    }
  ],
  "metadata": {
    "language_info": {
      "codemirror_mode": {
        "name": "ipython",
        "version": 2
      },
      "file_extension": ".py",
      "mimetype": "text/x-python",
      "name": "python",
      "nbconvert_exporter": "python",
      "pygments_lexer": "ipython2",
      "version": "2.7.6"
    },
    "kernelspec": {
      "name": "python3",
      "language": "python",
      "display_name": "Python 3"
    }
  },
  "nbformat": 4,
  "nbformat_minor": 0
}
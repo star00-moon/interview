{
  "cells": [
    {
      "cell_type": "markdown",
      "metadata": {
        "collapsed": true,
        "pycharm": {
          "name": "#%% md\n"
        }
      },
      "source": "## FM公式推导\n\n$\\displaystyle \\sum_{i\u003d1}^{n-1} \\displaystyle \\sum_{j\u003di+1}^n\u003cv_i\\cdot v_j\u003ex_ix_j\u003d\\frac{1}{2}[\\displaystyle \\sum_{i\u003d1}^{n} \\displaystyle \\sum_{j\u003d1}^n\u003cv_i\\cdot v_j\u003ex_ix_j - \\displaystyle \\sum_{i\u003d1}^{n} \u003cv_i\\cdot v_i\u003ex_ix_i]$\n\nembedding $\u003cv_{i,f}\u003e$\n\n$\u003d\\frac{1}{2}[\\displaystyle\\sum_{i\u003d1}^{n} \\displaystyle\\sum_{j\u003d1}^n\\displaystyle\\sum_{f\u003d1}^k\u003cv_{i,f}\\cdot v_{j,f}\u003ex_{i,f}x_{j,f} - \\displaystyle\\sum_{i\u003d1}^{n}\\displaystyle\\sum_{f\u003d1}^{k} \u003cv_{i,f}\\cdot v_{i,f}\u003ex_{i,f}x_{i,f}]$\n\n$\u003d\\frac{1}{2}\\displaystyle\\sum_{f\u003d1}^k[\\displaystyle\\sum_{i\u003d1}^{n} \\displaystyle\\sum_{j\u003d1}^n\u003cv_{i,f}\\cdot v_{j,f}\u003ex_{i,f}x_{j,f} - \\displaystyle\\sum_{i\u003d1}^{n} v_{i,f}^2x_{i,f}^2]$\n\n$\u003d\\frac{1}{2}\\displaystyle\\sum_{f\u003d1}^k[(\\displaystyle\\sum_{i\u003d1}^{n}v_{i,f}x_{i,f}) (\\displaystyle\\sum_{j\u003d1}^n v_{j,f}x_{j,f}) - \\displaystyle\\sum_{i\u003d1}^{n} v_{i,f}^2x_{i,f}^2]$\n\n取$i\u003dj$\n\n\n$\u003d\\frac{1}{2}\\displaystyle\\sum_{f\u003d1}^k[(\\displaystyle\\sum_{i\u003d1}^{n}v_{i,f}x_{i,f})^2 - \\displaystyle\\sum_{i\u003d1}^{n} v_{i,f}^2x_{i,f}^2]$\n\n"
    }
  ],
  "metadata": {
    "language_info": {
      "codemirror_mode": {
        "name": "ipython",
        "version": 2
      },
      "file_extension": ".py",
      "mimetype": "text/x-python",
      "name": "python",
      "nbconvert_exporter": "python",
      "pygments_lexer": "ipython2",
      "version": "2.7.6"
    },
    "kernelspec": {
      "name": "pycharm-a160739c",
      "language": "python",
      "display_name": "PyCharm (xmj-datawhale)"
    }
  },
  "nbformat": 4,
  "nbformat_minor": 0
}
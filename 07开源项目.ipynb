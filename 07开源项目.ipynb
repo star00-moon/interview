{
  "cells": [
    {
      "cell_type": "markdown",
      "metadata": {
        "collapsed": true,
        "pycharm": {
          "name": "#%% md\n"
        }
      },
      "source": "## Faiss facebook\n## Annoy\n## KGraph\n## NMSLIB\n\n\n[高维空间最近邻逼近搜索算法评测](https://zhuanlan.zhihu.com/p/37381294)\n\n"
    }
  ],
  "metadata": {
    "language_info": {
      "codemirror_mode": {
        "name": "ipython",
        "version": 2
      },
      "file_extension": ".py",
      "mimetype": "text/x-python",
      "name": "python",
      "nbconvert_exporter": "python",
      "pygments_lexer": "ipython2",
      "version": "2.7.6"
    },
    "kernelspec": {
      "name": "pycharm-a160739c",
      "language": "python",
      "display_name": "PyCharm (xmj-datawhale)"
    }
  },
  "nbformat": 4,
  "nbformat_minor": 0
}